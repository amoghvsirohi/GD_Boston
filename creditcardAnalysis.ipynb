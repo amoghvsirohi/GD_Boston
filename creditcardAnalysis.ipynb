{
  "nbformat": 4,
  "nbformat_minor": 0,
  "metadata": {
    "colab": {
      "name": "q4_creditcard.ipynb",
      "provenance": [],
      "collapsed_sections": []
    },
    "kernelspec": {
      "name": "python3",
      "display_name": "Python 3"
    }
  },
  "cells": [
    {
      "cell_type": "markdown",
      "metadata": {
        "id": "auqkMylbw9je",
        "colab_type": "text"
      },
      "source": [
        "**Loading relevant libraries**"
      ]
    },
    {
      "cell_type": "code",
      "metadata": {
        "id": "OQTOxVGfJZDS",
        "colab_type": "code",
        "colab": {}
      },
      "source": [
        "import time\n",
        "import warnings\n",
        "warnings.filterwarnings(\"ignore\")\n",
        "from google.colab import drive\n",
        "from google.colab import files\n",
        "import seaborn as sns\n",
        "import pandas as pd\n",
        "pd.options.display.max_rows = None\n",
        "import matplotlib.pyplot as plt  \n",
        "import math\n",
        "from sklearn.utils import resample\n",
        "from sklearn import preprocessing, utils, metrics\n",
        "from sklearn.metrics import confusion_matrix, f1_score, accuracy_score  \n",
        "from sklearn.linear_model import LogisticRegression\n",
        "from sklearn.ensemble import RandomForestClassifier \n",
        "from sklearn.model_selection import train_test_split"
      ],
      "execution_count": 1,
      "outputs": []
    },
    {
      "cell_type": "markdown",
      "metadata": {
        "id": "YavoCxE0xFBO",
        "colab_type": "text"
      },
      "source": [
        "**Mounting and reading of the file**"
      ]
    },
    {
      "cell_type": "code",
      "metadata": {
        "id": "DGdl17YpYMC-",
        "colab_type": "code",
        "colab": {
          "base_uri": "https://localhost:8080/",
          "height": 125
        },
        "outputId": "9cb827a3-12c9-45e8-e2c5-d997473f96b2"
      },
      "source": [
        "drive.mount('/content/gdrive')\n",
        "df=pd.read_csv('gdrive/My Drive/creditcard.csv')"
      ],
      "execution_count": 2,
      "outputs": [
        {
          "output_type": "stream",
          "text": [
            "Go to this URL in a browser: https://accounts.google.com/o/oauth2/auth?client_id=947318989803-6bn6qk8qdgf4n4g3pfee6491hc0brc4i.apps.googleusercontent.com&redirect_uri=urn%3aietf%3awg%3aoauth%3a2.0%3aoob&response_type=code&scope=email%20https%3a%2f%2fwww.googleapis.com%2fauth%2fdocs.test%20https%3a%2f%2fwww.googleapis.com%2fauth%2fdrive%20https%3a%2f%2fwww.googleapis.com%2fauth%2fdrive.photos.readonly%20https%3a%2f%2fwww.googleapis.com%2fauth%2fpeopleapi.readonly\n",
            "\n",
            "Enter your authorization code:\n",
            "··········\n",
            "Mounted at /content/gdrive\n"
          ],
          "name": "stdout"
        }
      ]
    },
    {
      "cell_type": "markdown",
      "metadata": {
        "id": "geXW--vpJLtY",
        "colab_type": "text"
      },
      "source": [
        "**i.a.**"
      ]
    },
    {
      "cell_type": "code",
      "metadata": {
        "id": "hfsaof7c3fic",
        "colab_type": "code",
        "colab": {
          "base_uri": "https://localhost:8080/",
          "height": 279
        },
        "outputId": "77e3a7a0-d0ce-4e32-e69a-a505468231f9"
      },
      "source": [
        "sns.set_style(\"whitegrid\")\n",
        "sns.distplot(df['Amount'],bins=5, kde=False, rug=True)\n",
        "plt.plot(df['Amount'].mean(),0,'ro') #mean\n",
        "plt.plot(df['Amount'].median(),0,'yo') #median\n",
        "plt.show()"
      ],
      "execution_count": 3,
      "outputs": [
        {
          "output_type": "display_data",
          "data": {
            "image/png": "[encoded data removed]",
            "text/plain": [
              "<Figure size 432x288 with 1 Axes>"
            ]
          },
          "metadata": {
            "tags": []
          }
        }
      ]
    },
    {
      "cell_type": "markdown",
      "metadata": {
        "id": "gC6XAU_XJTt3",
        "colab_type": "text"
      },
      "source": [
        "**i.b.**"
      ]
    },
    {
      "cell_type": "code",
      "metadata": {
        "id": "xFMZBCis-WnW",
        "colab_type": "code",
        "colab": {
          "base_uri": "https://localhost:8080/",
          "height": 279
        },
        "outputId": "1037534c-86b5-4ac7-fa46-7aebcddfbcb3"
      },
      "source": [
        "sns.distplot(df['Class'],bins=2, kde=False, rug=True)\n",
        "sns.set_style(\"whitegrid\")\n",
        "plt.show()"
      ],
      "execution_count": 4,
      "outputs": [
        {
          "output_type": "display_data",
          "data": {
            "image/png": "[encoded data removed]",
            "text/plain": [
              "<Figure size 432x288 with 1 Axes>"
            ]
          },
          "metadata": {
            "tags": []
          }
        }
      ]
    },
    {
      "cell_type": "markdown",
      "metadata": {
        "id": "nmlQQoMUMp3z",
        "colab_type": "text"
      },
      "source": [
        "**We can observe that this is a highly skewed dataset, since cases of credit card fraud are quite less and this might make our training model biased.**"
      ]
    },
    {
      "cell_type": "markdown",
      "metadata": {
        "id": "2zOIyrHUJb1Z",
        "colab_type": "text"
      },
      "source": [
        "**ii.**"
      ]
    },
    {
      "cell_type": "code",
      "metadata": {
        "id": "ezFSbJlDJf26",
        "colab_type": "code",
        "colab": {}
      },
      "source": [
        "df1 = df.drop(columns='Class')\n",
        "df2 = df['Class']\n",
        "x, x_test, y, y_test = train_test_split(df1,df2,test_size=0.25)\n",
        "x_train, x_dev, y_train, y_dev = train_test_split(x,y,test_size = 0.33333) \n",
        "# Since, 0.33333 * 0.75 = 0.25\n",
        "\n",
        "x_train.to_csv('x_train.csv') \n",
        "y_train.to_csv('y_train.csv')\n",
        "\n",
        "x_test.to_csv('x_test.csv') \n",
        "y_test.to_csv('y_test.csv') \n",
        "\n",
        "x_dev.to_csv('x_dev.csv') \n",
        "y_dev.to_csv('y_dev.csv') "
      ],
      "execution_count": 5,
      "outputs": []
    },
    {
      "cell_type": "markdown",
      "metadata": {
        "id": "EwQ3E_oRYHwr",
        "colab_type": "text"
      },
      "source": [
        "**iii. EXP1**"
      ]
    },
    {
      "cell_type": "code",
      "metadata": {
        "id": "9O4QB5wcYNC-",
        "colab_type": "code",
        "colab": {
          "base_uri": "https://localhost:8080/",
          "height": 123
        },
        "outputId": "ab7abd53-deee-4576-99ae-a9070d5b21dc"
      },
      "source": [
        "time_start = time.clock()\n",
        "\n",
        "logisticRegr = LogisticRegression()\n",
        "logisticRegr.fit(x_train, y_train)\n",
        "y_pred = logisticRegr.predict(x_test)\n",
        "\n",
        "print (\"Confusion Matrix : \\n\", confusion_matrix(y_test, y_pred))\n",
        "print(\"F1 Score : \",f1_score(y_test, y_pred)*100.0)\n",
        "print (\"Accuracy : \", accuracy_score(y_test, y_pred)*100.0) \n",
        "\n",
        "time_elapsed = (time.clock() - time_start)\n",
        "print(\"Time : \",time_elapsed)"
      ],
      "execution_count": 6,
      "outputs": [
        {
          "output_type": "stream",
          "text": [
            "Confusion Matrix : \n",
            " [[71022    47]\n",
            " [   35    98]]\n",
            "F1 Score :  70.50359712230215\n",
            "Accuracy :  99.88483469565462\n",
            "Time :  6.8189189999999975\n"
          ],
          "name": "stdout"
        }
      ]
    },
    {
      "cell_type": "markdown",
      "metadata": {
        "id": "yrIX50w3cAr8",
        "colab_type": "text"
      },
      "source": [
        "**iii. EXP2**"
      ]
    },
    {
      "cell_type": "code",
      "metadata": {
        "id": "iMbGcdXHcEPt",
        "colab_type": "code",
        "colab": {
          "base_uri": "https://localhost:8080/",
          "height": 123
        },
        "outputId": "eb1810ae-89aa-4357-ab8c-daa0eb0a4eff"
      },
      "source": [
        "sample1 = x_train.copy()\n",
        "sample1.drop(['Time', 'Amount'], axis=1, inplace=True)\n",
        "\n",
        "sample2 = x_test.copy()\n",
        "sample2.drop(['Time', 'Amount'], axis=1, inplace=True)\n",
        "\n",
        "time_start = time.clock()\n",
        "\n",
        "logisticRegr = LogisticRegression()\n",
        "logisticRegr.fit(sample1, y_train)\n",
        "y_pred = logisticRegr.predict(sample2)\n",
        "\n",
        "print (\"Confusion Matrix : \\n\", confusion_matrix(y_test, y_pred))\n",
        "print(\"F1 Score : \",f1_score(y_test, y_pred)*100.0)\n",
        "print (\"Accuracy : \", accuracy_score(y_test, y_pred)*100.0) \n",
        "\n",
        "time_elapsed = (time.clock() - time_start)\n",
        "print(\"Time : \",time_elapsed)"
      ],
      "execution_count": 7,
      "outputs": [
        {
          "output_type": "stream",
          "text": [
            "Confusion Matrix : \n",
            " [[71056    13]\n",
            " [   43    90]]\n",
            "F1 Score :  76.27118644067797\n",
            "Accuracy :  99.92135052386169\n",
            "Time :  3.693094000000002\n"
          ],
          "name": "stdout"
        }
      ]
    },
    {
      "cell_type": "markdown",
      "metadata": {
        "id": "mKtw2Ua78izK",
        "colab_type": "text"
      },
      "source": [
        "**iii. EXP3**"
      ]
    },
    {
      "cell_type": "code",
      "metadata": {
        "id": "JV8fEXBA8mRB",
        "colab_type": "code",
        "colab": {
          "base_uri": "https://localhost:8080/",
          "height": 123
        },
        "outputId": "209267ac-a83b-41c9-ef4d-71dc68eb0626"
      },
      "source": [
        "sample3 = x_train.copy()\n",
        "sample3.drop(['Time'], axis=1, inplace=True)\n",
        "\n",
        "sample4 = x_test.copy()\n",
        "sample4.drop(['Time'], axis=1, inplace=True)\n",
        "\n",
        "time_start = time.clock()\n",
        "\n",
        "logisticRegr = LogisticRegression()\n",
        "logisticRegr.fit(sample3, y_train)\n",
        "y_pred = logisticRegr.predict(sample4)\n",
        "\n",
        "print (\"Confusion Matrix : \\n\", confusion_matrix(y_test, y_pred))\n",
        "print(\"F1 Score : \",f1_score(y_test, y_pred)*100.0)\n",
        "print (\"Accuracy : \", accuracy_score(y_test, y_pred)*100.0) \n",
        "\n",
        "time_elapsed = (time.clock() - time_start)\n",
        "print(\"Time : \",time_elapsed)"
      ],
      "execution_count": 8,
      "outputs": [
        {
          "output_type": "stream",
          "text": [
            "Confusion Matrix : \n",
            " [[71057    12]\n",
            " [   55    78]]\n",
            "F1 Score :  69.95515695067265\n",
            "Accuracy :  99.90590151962023\n",
            "Time :  7.069481000000003\n"
          ],
          "name": "stdout"
        }
      ]
    },
    {
      "cell_type": "markdown",
      "metadata": {
        "id": "W-KmeMDW3thu",
        "colab_type": "text"
      },
      "source": [
        "**iv. I would recommend using PCA reduced features(EXP2) as they helped us achieve a good amount of accuracy and took least amount of computation time.**"
      ]
    },
    {
      "cell_type": "markdown",
      "metadata": {
        "id": "5Rg7NPQ-La95",
        "colab_type": "text"
      },
      "source": [
        "**v. Sampling of the dataset**"
      ]
    },
    {
      "cell_type": "code",
      "metadata": {
        "id": "2jvwjUruLmkq",
        "colab_type": "code",
        "colab": {}
      },
      "source": [
        "X = pd.concat([x_train, y_train], axis=1)\n",
        "\n",
        "not_fraud = X[X.Class==0]\n",
        "fraud = X[X.Class==1]\n",
        "\n",
        "fraud_upsampled = resample(fraud,replace=True, n_samples=len(not_fraud)) \n",
        "\n",
        "upsampled = pd.concat([not_fraud, fraud_upsampled])\n",
        "\n",
        "y_train_sample = upsampled.Class\n",
        "x_train_sample = upsampled.drop('Class', axis=1)\n",
        "\n",
        "x_train_sample.to_csv('x_train_sample.csv') \n",
        "y_train_sample.to_csv('y_train_sample.csv')"
      ],
      "execution_count": 16,
      "outputs": []
    },
    {
      "cell_type": "markdown",
      "metadata": {
        "id": "fi8AEDamNt9n",
        "colab_type": "text"
      },
      "source": [
        "**vi. EXP1**"
      ]
    },
    {
      "cell_type": "code",
      "metadata": {
        "id": "NsS9gd4eOBYo",
        "colab_type": "code",
        "colab": {
          "base_uri": "https://localhost:8080/",
          "height": 123
        },
        "outputId": "f9b52cd0-42ea-4cc9-a006-faac31131f39"
      },
      "source": [
        "time_start = time.clock()\n",
        "\n",
        "logisticRegr = LogisticRegression()\n",
        "logisticRegr.fit(x_train_sample, y_train_sample)\n",
        "y_pred = logisticRegr.predict(x_test)\n",
        "\n",
        "print (\"Confusion Matrix : \\n\", confusion_matrix(y_test, y_pred))\n",
        "print(\"F1 Score : \",f1_score(y_test, y_pred)*100.0)\n",
        "print (\"Accuracy : \", accuracy_score(y_test, y_pred)*100.0) \n",
        "\n",
        "time_elapsed = (time.clock() - time_start)\n",
        "print(\"Time : \",time_elapsed)"
      ],
      "execution_count": 10,
      "outputs": [
        {
          "output_type": "stream",
          "text": [
            "Confusion Matrix : \n",
            " [[67912  3157]\n",
            " [   16   117]]\n",
            "F1 Score :  6.868212503668916\n",
            "Accuracy :  95.54366450380607\n",
            "Time :  6.234376999999995\n"
          ],
          "name": "stdout"
        }
      ]
    },
    {
      "cell_type": "markdown",
      "metadata": {
        "id": "hfva7MaXR4aT",
        "colab_type": "text"
      },
      "source": [
        "**vi. EXP2**"
      ]
    },
    {
      "cell_type": "code",
      "metadata": {
        "id": "9PFJQFYnR_WQ",
        "colab_type": "code",
        "colab": {
          "base_uri": "https://localhost:8080/",
          "height": 123
        },
        "outputId": "36b25746-7463-4fda-86aa-c2f1fe5b3c10"
      },
      "source": [
        "sample5 = x_train_sample.copy()\n",
        "sample5.drop(['Time', 'Amount'], axis=1, inplace=True)\n",
        "\n",
        "time_start = time.clock()\n",
        "\n",
        "logisticRegr = LogisticRegression()\n",
        "logisticRegr.fit(sample5, y_train_sample)\n",
        "y_pred = logisticRegr.predict(sample2)\n",
        "\n",
        "print (\"Confusion Matrix : \\n\", confusion_matrix(y_test, y_pred))\n",
        "print(\"F1 Score : \",f1_score(y_test, y_pred)*100.0)\n",
        "print (\"Accuracy : \", accuracy_score(y_test, y_pred)*100.0) \n",
        "\n",
        "time_elapsed = (time.clock() - time_start)\n",
        "print(\"Time : \",time_elapsed)"
      ],
      "execution_count": 11,
      "outputs": [
        {
          "output_type": "stream",
          "text": [
            "Confusion Matrix : \n",
            " [[69110  1959]\n",
            " [   10   123]]\n",
            "F1 Score :  11.10609480812641\n",
            "Accuracy :  97.23462824077976\n",
            "Time :  6.216319999999996\n"
          ],
          "name": "stdout"
        }
      ]
    },
    {
      "cell_type": "markdown",
      "metadata": {
        "id": "oKTYB76ZeLDR",
        "colab_type": "text"
      },
      "source": [
        "**vi. EXP3**"
      ]
    },
    {
      "cell_type": "code",
      "metadata": {
        "id": "7A_MRXA6ePfq",
        "colab_type": "code",
        "colab": {
          "base_uri": "https://localhost:8080/",
          "height": 123
        },
        "outputId": "a44851b5-7c7c-482c-bb64-87905c13f389"
      },
      "source": [
        "sample6 = x_train_sample.copy()\n",
        "sample6.drop(['Time'], axis=1, inplace=True)\n",
        "\n",
        "time_start = time.clock()\n",
        "\n",
        "logisticRegr = LogisticRegression()\n",
        "logisticRegr.fit(sample6, y_train_sample)\n",
        "y_pred = logisticRegr.predict(sample4)\n",
        "\n",
        "print (\"Confusion Matrix : \\n\", confusion_matrix(y_test, y_pred))\n",
        "print(\"F1 Score : \",f1_score(y_test, y_pred)*100.0)\n",
        "print (\"Accuracy : \", accuracy_score(y_test, y_pred)*100.0) \n",
        "\n",
        "time_elapsed = (time.clock() - time_start)\n",
        "print(\"Time : \",time_elapsed)"
      ],
      "execution_count": 12,
      "outputs": [
        {
          "output_type": "stream",
          "text": [
            "Confusion Matrix : \n",
            " [[69019  2050]\n",
            " [   10   123]]\n",
            "F1 Score :  10.667823070251519\n",
            "Accuracy :  97.106822842055\n",
            "Time :  12.696257999999993\n"
          ],
          "name": "stdout"
        }
      ]
    },
    {
      "cell_type": "markdown",
      "metadata": {
        "id": "G5mSzEgsf4Jk",
        "colab_type": "text"
      },
      "source": [
        "**I would still recommend using PCA reduced features (EXP2) after sampling of the data due to the same reason above i.e very good speed with comparable accuracy.**"
      ]
    },
    {
      "cell_type": "markdown",
      "metadata": {
        "id": "h1YYU6VeEqCX",
        "colab_type": "text"
      },
      "source": [
        "**vii. EXP1**"
      ]
    },
    {
      "cell_type": "code",
      "metadata": {
        "id": "9EaQadMUEuUM",
        "colab_type": "code",
        "colab": {
          "base_uri": "https://localhost:8080/",
          "height": 123
        },
        "outputId": "ad0c8bfd-2f9b-4cc0-c707-2dbefc60ed0e"
      },
      "source": [
        "time_start = time.clock()\n",
        "\n",
        "rfc = RandomForestClassifier()\n",
        "rfc.fit(x_train_sample, y_train_sample)\n",
        "y_pred = rfc.predict(x_test)\n",
        "\n",
        "print (\"Confusion Matrix : \\n\", confusion_matrix(y_test, y_pred))\n",
        "print(\"F1 Score : \",f1_score(y_test, y_pred)*100.0)\n",
        "print (\"Accuracy : \", accuracy_score(y_test, y_pred)*100.0) \n",
        "\n",
        "time_elapsed = (time.clock() - time_start)\n",
        "print(\"Time : \",time_elapsed)"
      ],
      "execution_count": 13,
      "outputs": [
        {
          "output_type": "stream",
          "text": [
            "Confusion Matrix : \n",
            " [[71063     6]\n",
            " [   29   104]]\n",
            "F1 Score :  85.59670781893004\n",
            "Accuracy :  99.95084407741356\n",
            "Time :  94.06369900000001\n"
          ],
          "name": "stdout"
        }
      ]
    },
    {
      "cell_type": "markdown",
      "metadata": {
        "id": "l722Ow5jPuqy",
        "colab_type": "text"
      },
      "source": [
        "**vii. EXP2**"
      ]
    },
    {
      "cell_type": "code",
      "metadata": {
        "id": "sXuqKWW3Pz_O",
        "colab_type": "code",
        "colab": {
          "base_uri": "https://localhost:8080/",
          "height": 123
        },
        "outputId": "4432d7ec-199f-4186-9f17-482209d320c0"
      },
      "source": [
        "time_start = time.clock()\n",
        "\n",
        "rfc = RandomForestClassifier()\n",
        "rfc.fit(sample5, y_train_sample)\n",
        "y_pred = rfc.predict(sample2)\n",
        "\n",
        "print (\"Confusion Matrix : \\n\", confusion_matrix(y_test, y_pred))\n",
        "print(\"F1 Score : \",f1_score(y_test, y_pred)*100.0)\n",
        "print (\"Accuracy : \", accuracy_score(y_test, y_pred)*100.0) \n",
        "\n",
        "time_elapsed = (time.clock() - time_start)\n",
        "print(\"Time : \",time_elapsed)"
      ],
      "execution_count": 14,
      "outputs": [
        {
          "output_type": "stream",
          "text": [
            "Confusion Matrix : \n",
            " [[71063     6]\n",
            " [   29   104]]\n",
            "F1 Score :  85.59670781893004\n",
            "Accuracy :  99.95084407741356\n",
            "Time :  93.660078\n"
          ],
          "name": "stdout"
        }
      ]
    },
    {
      "cell_type": "markdown",
      "metadata": {
        "id": "v5F4Q-AizVEV",
        "colab_type": "text"
      },
      "source": [
        "**vii. EXP3**"
      ]
    },
    {
      "cell_type": "code",
      "metadata": {
        "id": "aMfXfnjmzaqb",
        "colab_type": "code",
        "colab": {
          "base_uri": "https://localhost:8080/",
          "height": 123
        },
        "outputId": "7dc7b278-e116-4f56-cea5-f6bbecda2f39"
      },
      "source": [
        "time_start = time.clock()\n",
        "\n",
        "rfc = RandomForestClassifier()\n",
        "rfc.fit(sample6, y_train_sample)\n",
        "y_pred = rfc.predict(sample4)\n",
        "\n",
        "print (\"Confusion Matrix : \\n\", confusion_matrix(y_test, y_pred))\n",
        "print(\"F1 Score : \",f1_score(y_test, y_pred)*100.0)\n",
        "print (\"Accuracy : \", accuracy_score(y_test, y_pred)*100.0) \n",
        "\n",
        "time_elapsed = (time.clock() - time_start)\n",
        "print(\"Time : \",time_elapsed)"
      ],
      "execution_count": 15,
      "outputs": [
        {
          "output_type": "stream",
          "text": [
            "Confusion Matrix : \n",
            " [[71063     6]\n",
            " [   29   104]]\n",
            "F1 Score :  85.59670781893004\n",
            "Accuracy :  99.95084407741356\n",
            "Time :  93.47590100000002\n"
          ],
          "name": "stdout"
        }
      ]
    }
  ]
}